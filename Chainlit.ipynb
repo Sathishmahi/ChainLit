{
  "cells": [
    {
      "cell_type": "code",
      "execution_count": null,
      "metadata": {
        "id": "SSDA8ewuUHUZ"
      },
      "outputs": [],
      "source": [
        "!pip install chainlit -q"
      ]
    },
    {
      "cell_type": "code",
      "execution_count": null,
      "metadata": {
        "colab": {
          "base_uri": "https://localhost:8080/"
        },
        "id": "F5hiYu2qVIMx",
        "outputId": "cea3bfcd-9518-4555-dc4e-b038ab7ad2ce"
      },
      "outputs": [
        {
          "name": "stdout",
          "output_type": "stream",
          "text": [
            "^C\n"
          ]
        }
      ],
      "source": [
        "!chainlit hello"
      ]
    },
    {
      "cell_type": "code",
      "execution_count": null,
      "metadata": {
        "colab": {
          "base_uri": "https://localhost:8080/"
        },
        "id": "Q6mZ7COEVUhx",
        "outputId": "15de34c2-f3d4-4562-a71d-e9a7a873aea1"
      },
      "outputs": [
        {
          "name": "stdout",
          "output_type": "stream",
          "text": [
            "\u001b[K\u001b[?25h/tools/node/bin/lt -> /tools/node/lib/node_modules/localtunnel/bin/lt.js\n",
            "\u001b[K\u001b[?25h+ localtunnel@2.0.2\n",
            "added 22 packages from 22 contributors in 3.927s\n"
          ]
        }
      ],
      "source": [
        "!npm install -g localtunnel"
      ]
    },
    {
      "cell_type": "code",
      "execution_count": null,
      "metadata": {
        "colab": {
          "base_uri": "https://localhost:8080/"
        },
        "id": "sikX3U68V-jN",
        "outputId": "24c77034-ef28-4509-93bc-b910a4a30f84"
      },
      "outputs": [
        {
          "name": "stdout",
          "output_type": "stream",
          "text": [
            "34.141.223.229\n"
          ]
        }
      ],
      "source": [
        "from urllib.request import urlopen\n",
        "import re as r\n",
        "\n",
        "def getIP():\n",
        "    d = str(urlopen('http://checkip.dyndns.com/').read())\n",
        "\n",
        "    return r.compile(r'Address: (\\d+\\.\\d+\\.\\d+\\.\\d+)').search(d).group(1)\n",
        "\n",
        "print(getIP())"
      ]
    },
    {
      "cell_type": "code",
      "execution_count": null,
      "metadata": {
        "colab": {
          "base_uri": "https://localhost:8080/"
        },
        "id": "m1wytY8pW_S8",
        "outputId": "d52f1555-94c3-4eff-be59-ab87b968ff69"
      },
      "outputs": [
        {
          "name": "stdout",
          "output_type": "stream",
          "text": [
            "2023-06-10 19:03:42 - Created default config file at /content/.chainlit/config.toml\n",
            "2023-06-10 19:03:42 - Config file already exists at /content/.chainlit/config.toml\n"
          ]
        }
      ],
      "source": [
        "!chainlit init"
      ]
    },
    {
      "cell_type": "code",
      "execution_count": null,
      "metadata": {
        "id": "84xLvuM6Ydn2"
      },
      "outputs": [],
      "source": [
        "import toml\n",
        "data=toml.load(\"/content/.chainlit/config.toml\")"
      ]
    },
    {
      "cell_type": "code",
      "execution_count": null,
      "metadata": {
        "id": "NU8bnu83ZniJ"
      },
      "outputs": [],
      "source": [
        "data={'project': {'name': 'OrderGPT',\n",
        "  'public': True,\n",
        "  'enable_telemetry': True,\n",
        "  'user_env': [],\n",
        "  'hide_cot': False,\n",
        "   \"github\":\"https://github.com/Sathishmahi/ChainLit\"}}\n",
        "with open(\"/content/.chainlit/config.toml\",\"w\") as f:\n",
        "  toml.dump(data,f)"
      ]
    },
    {
      "cell_type": "code",
      "execution_count": null,
      "metadata": {
        "colab": {
          "background_save": true
        },
        "id": "LxQfmw76cVoP"
      },
      "outputs": [],
      "source": [
        "!chainlit run app.py & lt --port 8000"
      ]
    },
    {
      "cell_type": "markdown",
      "source": [
        " [Chainlit docs](https://docs.chainlit.io/overview)"
      ],
      "metadata": {
        "id": "LKbAU_I679rv"
      }
    }
  ],
  "metadata": {
    "colab": {
      "provenance": []
    },
    "kernelspec": {
      "display_name": "Python 3",
      "name": "python3"
    },
    "language_info": {
      "name": "python"
    }
  },
  "nbformat": 4,
  "nbformat_minor": 0
}